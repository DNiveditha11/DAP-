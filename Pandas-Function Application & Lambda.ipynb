{
 "cells": [
  {
   "cell_type": "code",
   "execution_count": 1,
   "id": "e923dd16",
   "metadata": {
    "scrolled": true
   },
   "outputs": [
    {
     "name": "stdout",
     "output_type": "stream",
     "text": [
      "       col1      col2      col3\n",
      "0 -0.340453 -0.661292 -0.448694\n",
      "1  0.016126  1.735440 -1.294100\n",
      "2  0.535314 -0.174753  2.155162\n",
      "3 -0.270118 -0.156795 -0.255696\n",
      "4  0.395125 -0.942103 -0.177988\n",
      "printing the results of pipe\n",
      "       col1      col2      col3\n",
      "0  1.659547  1.338708  1.551306\n",
      "1  2.016126  3.735440  0.705900\n",
      "2  2.535314  1.825247  4.155162\n",
      "3  1.729882  1.843205  1.744304\n",
      "4  2.395125  1.057897  1.822012\n"
     ]
    }
   ],
   "source": [
    "import pandas as pd\n",
    "import numpy as np\n",
    "\n",
    "def adder(ele1,ele2):\n",
    "   return ele1+ele2\n",
    "\n",
    "df = pd.DataFrame(np.random.randn(5,3),columns=['col1','col2','col3'])\n",
    "print(df)\n",
    "print(\"printing the results of pipe\")\n",
    "print(df.pipe(adder,2))"
   ]
  },
  {
   "cell_type": "code",
   "execution_count": 1,
   "id": "f592d461",
   "metadata": {},
   "outputs": [
    {
     "name": "stdout",
     "output_type": "stream",
     "text": [
      "       col1      col2      col3\n",
      "0 -0.221325 -0.379971 -0.517350\n",
      "1 -0.795384  0.654277  0.652740\n",
      "2  0.141925 -1.009026  0.990916\n",
      "3 -0.335229 -0.174160 -0.149690\n",
      "4  0.259244 -0.533985  0.176252\n",
      "col1   -0.190154\n",
      "col2   -0.288573\n",
      "col3    0.230574\n",
      "dtype: float64\n"
     ]
    }
   ],
   "source": [
    "import pandas as pd\n",
    "import numpy as np\n",
    "\n",
    "def adder(ele1,ele2):\n",
    "   return ele1+ele2\n",
    "\n",
    "df = pd.DataFrame(np.random.randn(5,3),columns=['col1','col2','col3'])\n",
    "print(df)\n",
    "\n",
    "print (df.apply(np.mean))"
   ]
  },
  {
   "cell_type": "code",
   "execution_count": 10,
   "id": "4ca2311a",
   "metadata": {},
   "outputs": [
    {
     "name": "stdout",
     "output_type": "stream",
     "text": [
      "       col1      col2      col3\n",
      "0 -0.925125  0.541934 -0.982347\n",
      "1 -1.018046  0.082642 -3.191830\n",
      "2  0.278056 -1.534515 -0.154953\n",
      "3 -1.916473 -1.760331  0.152299\n",
      "4  0.145001 -0.521489 -2.528679\n",
      "0   -0.455179\n",
      "1   -1.375745\n",
      "2   -0.470471\n",
      "3   -1.174835\n",
      "4   -0.968389\n",
      "dtype: float64\n"
     ]
    }
   ],
   "source": [
    "import pandas as pd\n",
    "import numpy as np\n",
    "\n",
    "df = pd.DataFrame(np.random.randn(5,3),columns=['col1','col2','col3'])\n",
    "print(df)\n",
    "\n",
    "print (df.apply(np.mean,axis=1))"
   ]
  },
  {
   "cell_type": "code",
   "execution_count": 14,
   "id": "0dbc6704",
   "metadata": {},
   "outputs": [
    {
     "name": "stdout",
     "output_type": "stream",
     "text": [
      "       col1      col2      col3\n",
      "0 -0.866337  0.237423  0.274658\n",
      "1  1.133911 -2.230867 -0.523681\n",
      "2  1.003188  0.029264 -0.024589\n",
      "3  0.008908 -1.562550 -1.783723\n",
      "4 -0.146589 -0.450539 -1.310938\n",
      "0    -86.633711\n",
      "1    113.391137\n",
      "2    100.318824\n",
      "3      0.890847\n",
      "4    -14.658866\n",
      "Name: col1, dtype: float64\n"
     ]
    }
   ],
   "source": [
    "import pandas as pd\n",
    "import numpy as np\n",
    "df = pd.DataFrame(np.random.randn(5,3),columns=['col1','col2','col3'])\n",
    "print(df)\n",
    "\n",
    "print(df['col1'].map(lambda x:x*100))\n"
   ]
  },
  {
   "cell_type": "code",
   "execution_count": 2,
   "id": "50c482f4",
   "metadata": {},
   "outputs": [
    {
     "name": "stdout",
     "output_type": "stream",
     "text": [
      "   id name  age  income\n",
      "0   1  mno   12    9921\n",
      "1   2  pqr   21    8448\n",
      "2   3  stu   23    7597\n",
      "3   4  vwx   24    4369\n",
      "4   5  yza   45    5087\n",
      "5   6  bcd   21    7698\n"
     ]
    }
   ],
   "source": [
    "df=pd.DataFrame({'id':[1,2,3,4,5,6],'name':['mno','pqr','stu','vwx','yza', 'bcd'],'age':[12,21,23,24,45,21], 'income':[9921,8448,7597,4369,5087,7698]})\n",
    "print(df)"
   ]
  },
  {
   "cell_type": "code",
   "execution_count": 3,
   "id": "78509ff2",
   "metadata": {},
   "outputs": [
    {
     "name": "stdout",
     "output_type": "stream",
     "text": [
      "   id name  age  income\n",
      "0   1  mno   15    9921\n",
      "1   2  pqr   24    8448\n",
      "2   3  stu   26    7597\n",
      "3   4  vwx   27    4369\n",
      "4   5  yza   48    5087\n",
      "5   6  bcd   24    7698\n"
     ]
    }
   ],
   "source": [
    "df['age']=df.apply(lambda x: x['age']+3, axis=1)\n",
    "print(df)"
   ]
  },
  {
   "cell_type": "code",
   "execution_count": 4,
   "id": "31ec2e81",
   "metadata": {},
   "outputs": [
    {
     "data": {
      "text/plain": [
       "[24, 26, 27, 48, 24]"
      ]
     },
     "execution_count": 4,
     "metadata": {},
     "output_type": "execute_result"
    }
   ],
   "source": [
    "list(filter(lambda x:x>18, df['age']))"
   ]
  },
  {
   "cell_type": "code",
   "execution_count": 5,
   "id": "0129ea5a",
   "metadata": {},
   "outputs": [
    {
     "name": "stdout",
     "output_type": "stream",
     "text": [
      "   id name  age  income\n",
      "0   1  mno   15   11905\n",
      "1   2  pqr   24   10137\n",
      "2   3  stu   26    9116\n",
      "3   4  vwx   27    5242\n",
      "4   5  yza   48    6104\n",
      "5   6  bcd   24    9237\n"
     ]
    }
   ],
   "source": [
    "df['income']=list(map(lambda x: int(x+x*0.2), df['income']))\n",
    "print(df)"
   ]
  },
  {
   "cell_type": "code",
   "execution_count": 6,
   "id": "06a1515d",
   "metadata": {},
   "outputs": [
    {
     "data": {
      "text/plain": [
       "51741"
      ]
     },
     "execution_count": 6,
     "metadata": {},
     "output_type": "execute_result"
    }
   ],
   "source": [
    "import functools\n",
    "\n",
    "functools.reduce(lambda a,b: a+b, df['income'])"
   ]
  },
  {
   "cell_type": "code",
   "execution_count": 7,
   "id": "be799491",
   "metadata": {},
   "outputs": [],
   "source": [
    "df['category']=df['age'].apply(lambda x: 'Adult' if x>=18 else 'Child')"
   ]
  },
  {
   "cell_type": "code",
   "execution_count": 8,
   "id": "43f1dac5",
   "metadata": {},
   "outputs": [
    {
     "name": "stdout",
     "output_type": "stream",
     "text": [
      "   id name  age  income category\n",
      "0   1  mno   15   11905    Child\n",
      "1   2  pqr   24   10137    Adult\n",
      "2   3  stu   26    9116    Adult\n",
      "3   4  vwx   27    5242    Adult\n",
      "4   5  yza   48    6104    Adult\n",
      "5   6  bcd   24    9237    Adult\n"
     ]
    }
   ],
   "source": [
    "print(df)"
   ]
  },
  {
   "cell_type": "code",
   "execution_count": null,
   "id": "d966841e",
   "metadata": {},
   "outputs": [],
   "source": []
  }
 ],
 "metadata": {
  "kernelspec": {
   "display_name": "Python 3",
   "language": "python",
   "name": "python3"
  },
  "language_info": {
   "codemirror_mode": {
    "name": "ipython",
    "version": 3
   },
   "file_extension": ".py",
   "mimetype": "text/x-python",
   "name": "python",
   "nbconvert_exporter": "python",
   "pygments_lexer": "ipython3",
   "version": "3.8.8"
  }
 },
 "nbformat": 4,
 "nbformat_minor": 5
}
