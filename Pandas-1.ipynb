{
 "cells": [
  {
   "cell_type": "code",
   "execution_count": 1,
   "id": "636defc4",
   "metadata": {},
   "outputs": [
    {
     "name": "stdout",
     "output_type": "stream",
     "text": [
      "0    1.386681\n",
      "1    0.756301\n",
      "2   -0.917963\n",
      "dtype: float64\n"
     ]
    }
   ],
   "source": [
    "import pandas as pd\n",
    "import numpy as np\n",
    "\n",
    "#Create a series with 100 random numbers\n",
    "s = pd.Series(np.random.randn(3))\n",
    "print (s)"
   ]
  },
  {
   "cell_type": "code",
   "execution_count": 2,
   "id": "016d0aaa",
   "metadata": {},
   "outputs": [
    {
     "name": "stdout",
     "output_type": "stream",
     "text": [
      "The axes are:\n",
      "[RangeIndex(start=0, stop=3, step=1)]\n"
     ]
    }
   ],
   "source": [
    "import pandas as pd\n",
    "import numpy as np\n",
    "\n",
    "#Create a series with 100 random numbers\n",
    "s = pd.Series(np.random.randn(3))\n",
    "print (\"The axes are:\")\n",
    "print (s.axes)"
   ]
  },
  {
   "cell_type": "code",
   "execution_count": 3,
   "id": "866beb7b",
   "metadata": {},
   "outputs": [
    {
     "name": "stdout",
     "output_type": "stream",
     "text": [
      "Is the Object empty?\n",
      "False\n"
     ]
    }
   ],
   "source": [
    "import pandas as pd\n",
    "import numpy as np\n",
    "\n",
    "#Create a series with 100 random numbers\n",
    "s = pd.Series(np.random.randn(3))\n",
    "print (\"Is the Object empty?\")\n",
    "print (s.empty)"
   ]
  },
  {
   "cell_type": "code",
   "execution_count": 5,
   "id": "5906b21b",
   "metadata": {},
   "outputs": [
    {
     "name": "stdout",
     "output_type": "stream",
     "text": [
      "0   -1.112338\n",
      "1    0.971879\n",
      "2   -0.248575\n",
      "dtype: float64\n",
      "The dimensions of the object:\n",
      "1\n"
     ]
    }
   ],
   "source": [
    "import pandas as pd\n",
    "import numpy as np\n",
    "\n",
    "#Create a series with 3 random numbers\n",
    "s = pd.Series(np.random.randn(3))\n",
    "print (s)\n",
    "\n",
    "print (\"The dimensions of the object:\")\n",
    "print (s.ndim)"
   ]
  },
  {
   "cell_type": "code",
   "execution_count": 6,
   "id": "a3244c38",
   "metadata": {},
   "outputs": [
    {
     "name": "stdout",
     "output_type": "stream",
     "text": [
      "0    0.068551\n",
      "dtype: float64\n",
      "The size of the object:\n",
      "1\n"
     ]
    }
   ],
   "source": [
    "import pandas as pd\n",
    "import numpy as np\n",
    "\n",
    "#Create a series with 3 random numbers\n",
    "s = pd.Series(np.random.randn(1))\n",
    "print (s)\n",
    "print (\"The size of the object:\")\n",
    "print (s.size)"
   ]
  },
  {
   "cell_type": "code",
   "execution_count": 7,
   "id": "65b35323",
   "metadata": {},
   "outputs": [
    {
     "name": "stdout",
     "output_type": "stream",
     "text": [
      "0    2.648628\n",
      "1   -0.447359\n",
      "2    0.056439\n",
      "dtype: float64\n",
      "The actual data series is:\n",
      "[ 2.64862832 -0.44735877  0.05643941]\n"
     ]
    }
   ],
   "source": [
    "import pandas as pd\n",
    "import numpy as np\n",
    "\n",
    "#Create a series with 3 random numbers\n",
    "s = pd.Series(np.random.randn(3))\n",
    "print (s)\n",
    "\n",
    "print (\"The actual data series is:\")\n",
    "print (s.values)"
   ]
  },
  {
   "cell_type": "code",
   "execution_count": 8,
   "id": "7bbc8cb8",
   "metadata": {},
   "outputs": [
    {
     "name": "stdout",
     "output_type": "stream",
     "text": [
      "The original series is:\n",
      "0    0.738763\n",
      "1    0.311784\n",
      "dtype: float64\n",
      "The first two rows of the data series:\n",
      "0    0.738763\n",
      "1    0.311784\n",
      "dtype: float64\n"
     ]
    }
   ],
   "source": [
    "import pandas as pd\n",
    "import numpy as np\n",
    "\n",
    "#Create a series with 2 random numbers\n",
    "s = pd.Series(np.random.randn(2))\n",
    "print (\"The original series is:\")\n",
    "print (s)\n",
    "\n",
    "print (\"The first two rows of the data series:\")\n",
    "print (s.head(2))"
   ]
  },
  {
   "cell_type": "code",
   "execution_count": 9,
   "id": "fd4f9722",
   "metadata": {},
   "outputs": [
    {
     "name": "stdout",
     "output_type": "stream",
     "text": [
      "The original series is:\n",
      "0    0.889285\n",
      "1    0.127020\n",
      "2   -0.076018\n",
      "3   -0.174436\n",
      "4   -1.415252\n",
      "dtype: float64\n",
      "The last two rows of the data series:\n",
      "3   -0.174436\n",
      "4   -1.415252\n",
      "dtype: float64\n"
     ]
    }
   ],
   "source": [
    "import pandas as pd\n",
    "import numpy as np\n",
    "\n",
    "#Create a series with 5 random numbers\n",
    "s = pd.Series(np.random.randn(5))\n",
    "print (\"The original series is:\")\n",
    "print (s)\n",
    "\n",
    "print (\"The last two rows of the data series:\")\n",
    "print (s.tail(2))"
   ]
  },
  {
   "cell_type": "code",
   "execution_count": 11,
   "id": "18eda3f8",
   "metadata": {},
   "outputs": [
    {
     "name": "stdout",
     "output_type": "stream",
     "text": [
      "Our data series is:\n",
      "     Name  Age  Rating\n",
      "0    Anki   21    5.23\n",
      "1  Ananth   22    2.24\n",
      "2  Chandu   25    1.92\n",
      "3  Sharan   24    3.56\n",
      "4   Nivvu   22    4.21\n",
      "5  Sharma   21    5.60\n",
      "6  Nandan   20    3.30\n"
     ]
    }
   ],
   "source": [
    "import pandas as pd\n",
    "import numpy as np\n",
    "\n",
    "#Create a Dictionary of series\n",
    "d = {'Name':pd.Series(['Anki','Ananth','Chandu','Sharan','Nivvu','Sharma','Nandan']),\n",
    "   'Age':pd.Series([21,22,25,24,22,21,20]),\n",
    "   'Rating':pd.Series([5.23,2.24,1.92,3.56,4.21,5.6,3.3])}\n",
    "\n",
    "#Create a DataFrame\n",
    "df = pd.DataFrame(d)\n",
    "print (\"Our data series is:\")\n",
    "print (df)"
   ]
  },
  {
   "cell_type": "code",
   "execution_count": 12,
   "id": "84f65f27",
   "metadata": {},
   "outputs": [
    {
     "name": "stdout",
     "output_type": "stream",
     "text": [
      "The transpose of the data series is:\n",
      "           0       1       2       3      4       5       6\n",
      "Name    Anki  Ananth  Chandu  Sharan  Nivvu  Sharma  Nandan\n",
      "Age       21      22      25      24     22      21      20\n",
      "Rating  5.23    2.24    1.92    3.56   4.21     5.6     3.3\n"
     ]
    }
   ],
   "source": [
    "import pandas as pd\n",
    "import numpy as np\n",
    " \n",
    "# Create a Dictionary of series\n",
    "d = {'Name':pd.Series(['Anki','Ananth','Chandu','Sharan','Nivvu','Sharma','Nandan']),\n",
    "   'Age':pd.Series([21,22,25,24,22,21,20]),\n",
    "   'Rating':pd.Series([5.23,2.24,1.92,3.56,4.21,5.6,3.3])}\n",
    "\n",
    "# Create a DataFrame\n",
    "df = pd.DataFrame(d)\n",
    "print (\"The transpose of the data series is:\")\n",
    "print (df.T)"
   ]
  },
  {
   "cell_type": "code",
   "execution_count": 12,
   "id": "ea7561ea",
   "metadata": {},
   "outputs": [
    {
     "name": "stdout",
     "output_type": "stream",
     "text": [
      "Row axis labels and column axis labels are:\n",
      "[RangeIndex(start=0, stop=7, step=1), Index(['Name', 'Age', 'Rating'], dtype='object')]\n"
     ]
    }
   ],
   "source": [
    "import pandas as pd\n",
    "import numpy as np\n",
    "\n",
    "#Create a Dictionary of series\n",
    "d = {'Name':pd.Series(['Anki','Ananth','Chandu','Sharan','Nivvu','Sharma','Nandan']),\n",
    "   'Age':pd.Series([[21,22,25,24,22,21,20]),\n",
    "   'Rating':pd.Series([5.23,2.24,1.92,3.56,4.21,5.6,3.3])}\n",
    "\n",
    "#Create a DataFrame\n",
    "df = pd.DataFrame(d)\n",
    "print (\"Row axis labels and column axis labels are:\")\n",
    "print (df.axes)"
   ]
  },
  {
   "cell_type": "code",
   "execution_count": 13,
   "id": "11e0f0bd",
   "metadata": {},
   "outputs": [
    {
     "name": "stdout",
     "output_type": "stream",
     "text": [
      "The data types of each column are:\n",
      "Name       object\n",
      "Age         int64\n",
      "Rating    float64\n",
      "dtype: object\n"
     ]
    }
   ],
   "source": [
    "import pandas as pd\n",
    "import numpy as np\n",
    "\n",
    "#Create a Dictionary of series\n",
    "d = {'Name':pd.Series(['Anki','Ananth','Chandu','Sharan','Nivvu','Sharma','Nandan']),\n",
    "   'Age':pd.Series([21,22,25,24,22,21,20]),\n",
    "   'Rating':pd.Series([5.23,2.24,1.92,3.56,4.21,5.6,3.3])}\n",
    "\n",
    "#Create a DataFrame\n",
    "df = pd.DataFrame(d)\n",
    "print (\"The data types of each column are:\")\n",
    "print (df.dtypes)"
   ]
  },
  {
   "cell_type": "code",
   "execution_count": 14,
   "id": "ccdf0ac4",
   "metadata": {},
   "outputs": [
    {
     "name": "stdout",
     "output_type": "stream",
     "text": [
      "Is the object empty?\n",
      "False\n"
     ]
    }
   ],
   "source": [
    "import pandas as pd\n",
    "import numpy as np\n",
    " \n",
    "#Create a Dictionary of series\n",
    "d = {'Name':pd.Series(['Anki','Ananth','Chandu','Sharan','Nivvu','Sharma','Nandan']),\n",
    "   'Age':pd.Series([21,22,25,24,22,21,20]),\n",
    "   'Rating':pd.Series([5.23,2.24,1.92,3.56,4.21,5.6,3.3])}\n",
    " \n",
    "#Create a DataFrame\n",
    "df = pd.DataFrame(d)\n",
    "print (\"Is the object empty?\")\n",
    "print (df.empty)"
   ]
  },
  {
   "cell_type": "code",
   "execution_count": 15,
   "id": "1a2fb63a",
   "metadata": {},
   "outputs": [
    {
     "name": "stdout",
     "output_type": "stream",
     "text": [
      "Our object is:\n",
      "     Name  Age  Rating\n",
      "0    Anki   21    5.23\n",
      "1  Ananth   22    2.24\n",
      "2  Chandu   25    1.92\n",
      "3  Sharan   24    3.56\n",
      "4   Nivvu   22    4.21\n",
      "5  Sharma   21    5.60\n",
      "6  Nandan   20    3.30\n",
      "The dimension of the object is:\n",
      "2\n"
     ]
    }
   ],
   "source": [
    "#ndim-Returns the number of dimensions of the object. By definition, DataFrame is a 2D object.\n",
    "\n",
    "import pandas as pd\n",
    "import numpy as np\n",
    "\n",
    "#Create a Dictionary of series\n",
    "d = {'Name':pd.Series(['Anki','Ananth','Chandu','Sharan','Nivvu','Sharma','Nandan']),\n",
    "   'Age':pd.Series([21,22,25,24,22,21,20]),\n",
    "   'Rating':pd.Series([5.23,2.24,1.92,3.56,4.21,5.6,3.3])}\n",
    "\n",
    "#Create a DataFrame\n",
    "df = pd.DataFrame(d)\n",
    "print (\"Our object is:\")\n",
    "print (df)\n",
    "print (\"The dimension of the object is:\")\n",
    "print (df.ndim)"
   ]
  },
  {
   "cell_type": "code",
   "execution_count": 16,
   "id": "c5c1079b",
   "metadata": {},
   "outputs": [
    {
     "name": "stdout",
     "output_type": "stream",
     "text": [
      "Our object is:\n",
      "     Name  Age  Rating\n",
      "0    Anki   21    5.23\n",
      "1  Ananth   22    2.24\n",
      "2  Chandu   25    1.92\n",
      "3  Sharan   24    3.56\n",
      "4   Nivvu   22    4.21\n",
      "5  Sharma   21    5.60\n",
      "6  Nandan   20    3.30\n",
      "The shape of the object is:\n",
      "(7, 3)\n"
     ]
    }
   ],
   "source": [
    "import pandas as pd\n",
    "import numpy as np\n",
    " \n",
    "#Create a Dictionary of series\n",
    "d = {'Name':pd.Series(['Anki','Ananth','Chandu','Sharan','Nivvu','Sharma','Nandan']),\n",
    "   'Age':pd.Series([21,22,25,24,22,21,20]),\n",
    "   'Rating':pd.Series([5.23,2.24,1.92,3.56,4.21,5.6,3.3])}\n",
    " \n",
    "#Create a DataFrame\n",
    "df = pd.DataFrame(d)\n",
    "print (\"Our object is:\")\n",
    "print (df)\n",
    "print (\"The shape of the object is:\")\n",
    "print (df.shape)"
   ]
  },
  {
   "cell_type": "code",
   "execution_count": 17,
   "id": "6948553c",
   "metadata": {},
   "outputs": [
    {
     "name": "stdout",
     "output_type": "stream",
     "text": [
      "Our object is:\n",
      "     Name  Age  Rating\n",
      "0    Anki   21    5.23\n",
      "1  Ananth   22    2.24\n",
      "2  Chandu   25    1.92\n",
      "3  Sharan   24    3.56\n",
      "4   Nivvu   22    4.21\n",
      "5  Sharma   21    5.60\n",
      "6  Nandan   20    3.30\n",
      "The total number of elements in our object is:\n",
      "21\n"
     ]
    }
   ],
   "source": [
    "import pandas as pd\n",
    "import numpy as np\n",
    " \n",
    "#Create a Dictionary of series\n",
    "d = {'Name':pd.Series(['Anki','Ananth','Chandu','Sharan','Nivvu','Sharma','Nandan']),\n",
    "   'Age':pd.Series([21,22,25,24,22,21,20]),\n",
    "   'Rating':pd.Series([5.23,2.24,1.92,3.56,4.21,5.6,3.3])}\n",
    " \n",
    "#Create a DataFrame\n",
    "df = pd.DataFrame(d)\n",
    "print (\"Our object is:\")\n",
    "print (df)\n",
    "print (\"The total number of elements in our object is:\")\n",
    "print (df.size)"
   ]
  },
  {
   "cell_type": "code",
   "execution_count": 18,
   "id": "578284a6",
   "metadata": {},
   "outputs": [
    {
     "name": "stdout",
     "output_type": "stream",
     "text": [
      "Our object is:\n",
      "     Name  Age  Rating\n",
      "0    Anki   21    5.23\n",
      "1  Ananth   22    2.24\n",
      "2  Chandu   25    1.92\n",
      "3  Sharan   24    3.56\n",
      "4   Nivvu   22    4.21\n",
      "5  Sharma   21    5.60\n",
      "6  Nandan   20    3.30\n",
      "The actual data in our data frame is:\n",
      "[['Anki' 21 5.23]\n",
      " ['Ananth' 22 2.24]\n",
      " ['Chandu' 25 1.92]\n",
      " ['Sharan' 24 3.56]\n",
      " ['Nivvu' 22 4.21]\n",
      " ['Sharma' 21 5.6]\n",
      " ['Nandan' 20 3.3]]\n"
     ]
    }
   ],
   "source": [
    "import pandas as pd\n",
    "import numpy as np\n",
    " \n",
    "#Create a Dictionary of series\n",
    "d = {'Name':pd.Series(['Anki','Ananth','Chandu','Sharan','Nivvu','Sharma','Nandan']),\n",
    "   'Age':pd.Series([21,22,25,24,22,21,20]),\n",
    "   'Rating':pd.Series([5.23,2.24,1.92,3.56,4.21,5.6,3.3])}\n",
    " \n",
    "#Create a DataFrame\n",
    "df = pd.DataFrame(d)\n",
    "print (\"Our object is:\")\n",
    "print (df)\n",
    "print (\"The actual data in our data frame is:\")\n",
    "print (df.values)"
   ]
  },
  {
   "cell_type": "code",
   "execution_count": 19,
   "id": "bacb768b",
   "metadata": {},
   "outputs": [
    {
     "name": "stdout",
     "output_type": "stream",
     "text": [
      "Our data frame is:\n",
      "     Name  Age  Rating\n",
      "0    Anki   21    5.23\n",
      "1  Ananth   22    2.24\n",
      "2  Chandu   25    1.92\n",
      "3  Sharan   24    3.56\n",
      "4   Nivvu   22    4.21\n",
      "5  Sharma   21    5.60\n",
      "6  Nandan   20    3.30\n",
      "The first two rows of the data frame is:\n",
      "     Name  Age  Rating\n",
      "0    Anki   21    5.23\n",
      "1  Ananth   22    2.24\n",
      "2  Chandu   25    1.92\n",
      "default head values\n",
      "     Name  Age  Rating\n",
      "0    Anki   21    5.23\n",
      "1  Ananth   22    2.24\n",
      "2  Chandu   25    1.92\n",
      "3  Sharan   24    3.56\n",
      "4   Nivvu   22    4.21\n"
     ]
    }
   ],
   "source": [
    "import pandas as pd\n",
    "import numpy as np\n",
    " \n",
    "#Create a Dictionary of series\n",
    "d = {'Name':pd.Series(['Anki','Ananth','Chandu','Sharan','Nivvu','Sharma','Nandan']),\n",
    "   'Age':pd.Series([21,22,25,24,22,21,20]),\n",
    "   'Rating':pd.Series([5.23,2.24,1.92,3.56,4.21,5.6,3.3])}\n",
    "\n",
    "#Create a DataFrame\n",
    "df = pd.DataFrame(d)\n",
    "print (\"Our data frame is:\")\n",
    "print (df)\n",
    "print (\"The first two rows of the data frame is:\")\n",
    "print (df.head(3))\n",
    "print(\"default head values\")\n",
    "print (df.head())"
   ]
  },
  {
   "cell_type": "code",
   "execution_count": 20,
   "id": "1fb4d762",
   "metadata": {},
   "outputs": [
    {
     "name": "stdout",
     "output_type": "stream",
     "text": [
      "Our data frame is:\n",
      "     Name  Age  Rating\n",
      "0    Anki   21    5.23\n",
      "1  Ananth   22    2.24\n",
      "2  Chandu   25    1.92\n",
      "3  Sharan   24    3.56\n",
      "4   Nivvu   22    4.21\n",
      "5  Sharma   21    5.60\n",
      "6  Nandan   20    3.30\n",
      "The last two rows of the data frame is:\n",
      "     Name  Age  Rating\n",
      "5  Sharma   21     5.6\n",
      "6  Nandan   20     3.3\n"
     ]
    }
   ],
   "source": [
    "import pandas as pd\n",
    "import numpy as np\n",
    "\n",
    "#Create a Dictionary of series\n",
    "d = {'Name':pd.Series(['Anki','Ananth','Chandu','Sharan','Nivvu','Sharma','Nandan']),\n",
    "   'Age':pd.Series([21,22,25,24,22,21,20]), \n",
    "   'Rating':pd.Series([5.23,2.24,1.92,3.56,4.21,5.6,3.3])}\n",
    " \n",
    "#Create a DataFrame\n",
    "df = pd.DataFrame(d)\n",
    "print (\"Our data frame is:\")\n",
    "print (df)\n",
    "print (\"The last two rows of the data frame is:\")\n",
    "print (df.tail(2))"
   ]
  },
  {
   "cell_type": "code",
   "execution_count": null,
   "id": "74c76493",
   "metadata": {},
   "outputs": [],
   "source": []
  }
 ],
 "metadata": {
  "kernelspec": {
   "display_name": "Python 3",
   "language": "python",
   "name": "python3"
  },
  "language_info": {
   "codemirror_mode": {
    "name": "ipython",
    "version": 3
   },
   "file_extension": ".py",
   "mimetype": "text/x-python",
   "name": "python",
   "nbconvert_exporter": "python",
   "pygments_lexer": "ipython3",
   "version": "3.8.8"
  }
 },
 "nbformat": 4,
 "nbformat_minor": 5
}
