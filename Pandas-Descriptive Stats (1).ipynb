{
 "cells": [
  {
   "cell_type": "code",
   "execution_count": 1,
   "id": "38ae6fb8",
   "metadata": {},
   "outputs": [
    {
     "name": "stdout",
     "output_type": "stream",
     "text": [
      "           Name  Age  Rating\n",
      "0         Nivvu   22    4.12\n",
      "1          Anki   20    2.23\n",
      "2        Chandu   21    1.34\n",
      "3        Dimple   24    4.23\n",
      "4        Sanchu   32    5.25\n",
      "5        Sharma   25    5.40\n",
      "6  NandanSharan   24    2.60\n",
      "7        Ananth   31    6.65\n",
      "8        Harsha   26    1.44\n",
      "9           NaN   33    4.60\n"
     ]
    }
   ],
   "source": [
    "import pandas as pd\n",
    "import numpy as np\n",
    "\n",
    "#Create a Dictionary of series\n",
    "d = {'Name':pd.Series(['Nivvu','Anki','Chandu','Dimple','Sanchu','Sharma','Nandan'\n",
    "                      'Sharan','Ananth','Harsha']),\n",
    "   'Age':pd.Series([22,20,21,24,32,25,24,31,26,33]),\n",
    "   'Rating':pd.Series([4.12,2.23,1.34,4.23,5.25,5.4,2.6,6.65,1.44,4.60])\n",
    "}\n",
    "\n",
    "#Create a DataFrame\n",
    "df = pd.DataFrame(d)\n",
    "print (df)"
   ]
  },
  {
   "cell_type": "code",
   "execution_count": 2,
   "id": "4b381c8f",
   "metadata": {},
   "outputs": [
    {
     "name": "stdout",
     "output_type": "stream",
     "text": [
      "Age       258.00\n",
      "Rating     37.86\n",
      "dtype: float64\n"
     ]
    }
   ],
   "source": [
    "import pandas as pd\n",
    "import numpy as np\n",
    " \n",
    "#Create a Dictionary of series\n",
    "d = {'Name':pd.Series(['Nivvu','Anki','Chandu','Dimple','Sanchu','Sharma','Nandan'\n",
    "                      'Sharan','Ananth','Harsha']),\n",
    "   'Age':pd.Series([22,20,21,24,32,25,24,31,26,33]),\n",
    "   'Rating':pd.Series([4.12,2.23,1.34,4.23,5.25,5.4,2.6,6.65,1.44,4.60])\n",
    "}\n",
    "\n",
    "#Create a DataFrame\n",
    "df = pd.DataFrame(d)\n",
    "print (df.sum())\n"
   ]
  },
  {
   "cell_type": "code",
   "execution_count": 3,
   "id": "0d4157ab",
   "metadata": {},
   "outputs": [
    {
     "name": "stdout",
     "output_type": "stream",
     "text": [
      "0    26.12\n",
      "1    22.23\n",
      "2    22.34\n",
      "3    28.23\n",
      "4    37.25\n",
      "5    30.40\n",
      "6    26.60\n",
      "7    37.65\n",
      "8    27.44\n",
      "9    37.60\n",
      "dtype: float64\n"
     ]
    }
   ],
   "source": [
    "import pandas as pd\n",
    "import numpy as np\n",
    " \n",
    "#Create a Dictionary of series\n",
    "d = {'Name':pd.Series(['Nivvu','Anki','Chandu','Dimple','Sanchu','Sharma','Nandan'\n",
    "                      'Sharan','Ananth','Harsha']),\n",
    "   'Age':pd.Series([22,20,21,24,32,25,24,31,26,33]),\n",
    "   'Rating':pd.Series([4.12,2.23,1.34,4.23,5.25,5.4,2.6,6.65,1.44,4.60])\n",
    "}\n",
    " \n",
    "#Create a DataFrame\n",
    "df = pd.DataFrame(d)\n",
    "print (df.sum(1))"
   ]
  },
  {
   "cell_type": "code",
   "execution_count": 4,
   "id": "8fca972c",
   "metadata": {},
   "outputs": [
    {
     "name": "stdout",
     "output_type": "stream",
     "text": [
      "Age       25.800\n",
      "Rating     3.786\n",
      "dtype: float64\n"
     ]
    }
   ],
   "source": [
    "import pandas as pd\n",
    "import numpy as np\n",
    "\n",
    "#Create a Dictionary of series\n",
    "d = {'Name':pd.Series(['Nivvu','Anki','Chandu','Dimple','Sanchu','Sharma','Nandan'\n",
    "                      'Sharan','Ananth','Harsha']),\n",
    "   'Age':pd.Series([22,20,21,24,32,25,24,31,26,33]),\n",
    "   'Rating':pd.Series([4.12,2.23,1.34,4.23,5.25,5.4,2.6,6.65,1.44,4.60])\n",
    "}\n",
    "\n",
    "#Create a DataFrame\n",
    "df = pd.DataFrame(d)\n",
    "print (df.mean())"
   ]
  },
  {
   "cell_type": "code",
   "execution_count": 5,
   "id": "d2f446d5",
   "metadata": {},
   "outputs": [
    {
     "name": "stdout",
     "output_type": "stream",
     "text": [
      "Age       4.661902\n",
      "Rating    1.802358\n",
      "dtype: float64\n"
     ]
    }
   ],
   "source": [
    "import pandas as pd\n",
    "import numpy as np\n",
    "\n",
    "#Create a Dictionary of series\n",
    "d = {'Name':pd.Series(['Nivvu','Anki','Chandu','Dimple','Sanchu','Sharma','Nandan'\n",
    "                      'Sharan','Ananth','Harsha']),\n",
    "   'Age':pd.Series([22,20,21,24,32,25,24,31,26,33]),\n",
    "   'Rating':pd.Series([4.12,2.23,1.34,4.23,5.25,5.4,2.6,6.65,1.44,4.60])\n",
    "}\n",
    "\n",
    "#Create a DataFrame\n",
    "df = pd.DataFrame(d)\n",
    "print (df.std())"
   ]
  },
  {
   "cell_type": "code",
   "execution_count": 6,
   "id": "df261125",
   "metadata": {},
   "outputs": [
    {
     "name": "stdout",
     "output_type": "stream",
     "text": [
      "             Age     Rating\n",
      "count  10.000000  10.000000\n",
      "mean   25.800000   3.786000\n",
      "std     4.661902   1.802358\n",
      "min    20.000000   1.340000\n",
      "25%    22.500000   2.322500\n",
      "50%    24.500000   4.175000\n",
      "75%    29.750000   5.087500\n",
      "max    33.000000   6.650000\n"
     ]
    }
   ],
   "source": [
    "import pandas as pd\n",
    "import numpy as np\n",
    "\n",
    "#Create a Dictionary of series\n",
    "d = {'Name':pd.Series(['Nivvu','Anki','Chandu','Dimple','Sanchu','Sharma','Nandan'\n",
    "                      'Sharan','Ananth','Harsha']),\n",
    "   'Age':pd.Series([22,20,21,24,32,25,24,31,26,33]),\n",
    "   'Rating':pd.Series([4.12,2.23,1.34,4.23,5.25,5.4,2.6,6.65,1.44,4.60])\n",
    "}\n",
    "\n",
    "#Create a DataFrame\n",
    "df = pd.DataFrame(d)\n",
    "print (df.describe())"
   ]
  },
  {
   "cell_type": "code",
   "execution_count": 7,
   "id": "8fd0bec0",
   "metadata": {},
   "outputs": [
    {
     "name": "stdout",
     "output_type": "stream",
     "text": [
      "                Name\n",
      "count              9\n",
      "unique             9\n",
      "top     NandanSharan\n",
      "freq               1\n"
     ]
    }
   ],
   "source": [
    "import pandas as pd\n",
    "import numpy as np\n",
    "\n",
    "#Create a Dictionary of series\n",
    "d = {'Name':pd.Series(['Nivvu','Anki','Chandu','Dimple','Sanchu','Sharma','Nandan'\n",
    "                      'Sharan','Ananth','Harsha']),\n",
    "   'Age':pd.Series([22,20,21,24,32,25,24,31,26,33]),\n",
    "   'Rating':pd.Series([4.12,2.23,1.34,4.23,5.25,5.4,2.6,6.65,1.44,4.60])\n",
    "}\n",
    "\n",
    "#Create a DataFrame\n",
    "df = pd.DataFrame(d)\n",
    "print (df.describe(include=['object']))"
   ]
  },
  {
   "cell_type": "code",
   "execution_count": 8,
   "id": "16d755f9",
   "metadata": {},
   "outputs": [
    {
     "name": "stdout",
     "output_type": "stream",
     "text": [
      "                Name        Age     Rating\n",
      "count              9  10.000000  10.000000\n",
      "unique             9        NaN        NaN\n",
      "top     NandanSharan        NaN        NaN\n",
      "freq               1        NaN        NaN\n",
      "mean             NaN  25.800000   3.786000\n",
      "std              NaN   4.661902   1.802358\n",
      "min              NaN  20.000000   1.340000\n",
      "25%              NaN  22.500000   2.322500\n",
      "50%              NaN  24.500000   4.175000\n",
      "75%              NaN  29.750000   5.087500\n",
      "max              NaN  33.000000   6.650000\n"
     ]
    }
   ],
   "source": [
    "import pandas as pd\n",
    "import numpy as np\n",
    "\n",
    "#Create a Dictionary of series\n",
    "d = {'Name':pd.Series(['Nivvu','Anki','Chandu','Dimple','Sanchu','Sharma','Nandan'\n",
    "                      'Sharan','Ananth','Harsha']),\n",
    "   'Age':pd.Series([22,20,21,24,32,25,24,31,26,33]),\n",
    "   'Rating':pd.Series([4.12,2.23,1.34,4.23,5.25,5.4,2.6,6.65,1.44,4.60])\n",
    "}\n",
    "\n",
    "#Create a DataFrame\n",
    "df = pd.DataFrame(d)\n",
    "print (df. describe(include='all'))"
   ]
  },
  {
   "cell_type": "code",
   "execution_count": 9,
   "id": "40c5ba5b",
   "metadata": {},
   "outputs": [
    {
     "name": "stdout",
     "output_type": "stream",
     "text": [
      "Original DataFrame:\n",
      "   Product  Price  Year\n",
      "0  Mobile  30000  2015\n",
      "1      AC  18000  2016\n",
      "2  Mobile  24000  2017\n",
      "3    Sofa  14000  2018\n",
      "4  Laptop  32000  2019\n",
      "\n",
      "Descriptive statistics of Price:\n",
      "\n",
      "count        5.000000\n",
      "mean     23600.000000\n",
      "std       7668.115805\n",
      "min      14000.000000\n",
      "25%      18000.000000\n",
      "50%      24000.000000\n",
      "75%      30000.000000\n",
      "max      32000.000000\n",
      "Name: Price, dtype: float64\n"
     ]
    }
   ],
   "source": [
    "# Import package\n",
    "from pandas import DataFrame\n",
    "\n",
    "# Create DataFrame\n",
    "cart = {'Product': ['Mobile', 'AC', 'Mobile', 'Sofa', 'Laptop'],\n",
    "\t\t'Price': [30000, 18000, 24000, 14000, 32000],\n",
    "\t\t'Year': [2015, 2016, 2017, 2018, 2019]\n",
    "\t\t}\n",
    "df = DataFrame(cart, columns = ['Product', 'Price', 'Year'])\n",
    "\n",
    "# Original DataFrame\n",
    "print(\"Original DataFrame:\\n\", df)\n",
    "\n",
    "# Describing descriptive statistics of Price\n",
    "print(\"\\nDescriptive statistics of Price:\\n\")\n",
    "stats = df['Price'].describe()\n",
    "print(stats)\n"
   ]
  },
  {
   "cell_type": "code",
   "execution_count": 10,
   "id": "153f5aa9",
   "metadata": {},
   "outputs": [
    {
     "name": "stdout",
     "output_type": "stream",
     "text": [
      "Original DataFrame:\n",
      "   Product  Price  Year\n",
      "0  Mobile  30000  2015\n",
      "1      AC  18000  2016\n",
      "2  Mobile  24000  2017\n",
      "3    Sofa  14000  2018\n",
      "4  Laptop  32000  2019\n",
      "\n",
      "Descriptive statistics of year:\n",
      "\n",
      "count       5.000000\n",
      "mean     2017.000000\n",
      "std         1.581139\n",
      "min      2015.000000\n",
      "25%      2016.000000\n",
      "50%      2017.000000\n",
      "75%      2018.000000\n",
      "max      2019.000000\n",
      "Name: Year, dtype: float64\n"
     ]
    }
   ],
   "source": [
    "# Import package\n",
    "\n",
    "\n",
    "# Create DataFrame\n",
    "cart = {'Product': ['Mobile', 'AC', 'Mobile', 'Sofa', 'Laptop'],\n",
    "\t\t'Price': [30000, 18000, 24000, 14000, 32000],\n",
    "\t\t'Year': [2015, 2016, 2017, 2018, 2019]\n",
    "\t\t}\n",
    "df = DataFrame(cart, columns = ['Product', 'Price', 'Year'])\n",
    "\n",
    "# Original DataFrame\n",
    "print(\"Original DataFrame:\\n\", df)\n",
    "\n",
    "# Describing descriptive statistics of Year\n",
    "print(\"\\nDescriptive statistics of year:\\n\")\n",
    "stats = df['Year'].describe()\n",
    "print(stats)\n"
   ]
  },
  {
   "cell_type": "code",
   "execution_count": 11,
   "id": "4dc623a3",
   "metadata": {},
   "outputs": [
    {
     "name": "stdout",
     "output_type": "stream",
     "text": [
      "Original DataFrame:\n",
      "   Product  Price  Year\n",
      "0  Mobile  30000  2015\n",
      "1      AC  18000  2016\n",
      "2  Mobile  24000  2017\n",
      "3    Sofa  14000  2018\n",
      "4  Laptop  32000  2019\n",
      "\n",
      "Descriptive statistics of whole dataframe:\n",
      "\n",
      "       Product         Price         Year\n",
      "count        5      5.000000     5.000000\n",
      "unique       4           NaN          NaN\n",
      "top     Mobile           NaN          NaN\n",
      "freq         2           NaN          NaN\n",
      "mean       NaN  23600.000000  2017.000000\n",
      "std        NaN   7668.115805     1.581139\n",
      "min        NaN  14000.000000  2015.000000\n",
      "25%        NaN  18000.000000  2016.000000\n",
      "50%        NaN  24000.000000  2017.000000\n",
      "75%        NaN  30000.000000  2018.000000\n",
      "max        NaN  32000.000000  2019.000000\n"
     ]
    }
   ],
   "source": [
    "\n",
    "\n",
    "# Create DataFrame\n",
    "cart = {'Product': ['Mobile', 'AC', 'Mobile', 'Sofa', 'Laptop'],\n",
    "\t\t'Price': [30000, 18000, 24000, 14000, 32000],\n",
    "\t\t'Year': [2015, 2016, 2017, 2018, 2019]\n",
    "\t\t}\n",
    "df = DataFrame(cart, columns = ['Product', 'Price', 'Year'])\n",
    "\n",
    "# Original DataFrame\n",
    "print(\"Original DataFrame:\\n\", df)\n",
    "\n",
    "# Describing descriptive statistics of whole dataframe\n",
    "print(\"\\nDescriptive statistics of whole dataframe:\\n\")\n",
    "stats = df.describe(include = 'all')\n",
    "print(stats)\n"
   ]
  },
  {
   "cell_type": "code",
   "execution_count": 13,
   "id": "4e8147b1",
   "metadata": {},
   "outputs": [
    {
     "name": "stdout",
     "output_type": "stream",
     "text": [
      "Original DataFrame:\n",
      "   Product  Price  Year\n",
      "0  Mobile  30000  2015\n",
      "1      AC  18000  2016\n",
      "2  Mobile  24000  2017\n",
      "3    Sofa  14000  2018\n",
      "4  Laptop  32000  2019\n",
      "\n",
      "Count of Price:\n",
      "\n",
      "5\n",
      "\n",
      "Mean of Price:\n",
      "\n",
      "23600.0\n",
      "\n",
      "Maximum value of Price:\n",
      "\n",
      "23600.0\n",
      "\n",
      "Standard deviation of Price:\n",
      "\n",
      "7668.115805072325\n"
     ]
    }
   ],
   "source": [
    "\n",
    "\n",
    "# Create DataFrame\n",
    "cart = {'Product': ['Mobile', 'AC', 'Mobile', 'Sofa', 'Laptop'],\n",
    "\t\t'Price': [30000, 18000, 24000, 14000, 32000],\n",
    "\t\t'Year': [2015, 2016, 2017, 2018, 2019]\n",
    "\t\t}\n",
    "df = DataFrame(cart, columns = ['Product', 'Price', 'Year'])\n",
    "\n",
    "# Original DataFrame\n",
    "print(\"Original DataFrame:\\n\", df)\n",
    "\n",
    "# Print Count of Price\n",
    "print(\"\\nCount of Price:\\n\")\n",
    "counts = df['Price'].count()\n",
    "print(counts)\n",
    "\n",
    "# Print mean of Price\n",
    "print(\"\\nMean of Price:\\n\")\n",
    "m = df['Price'].mean()\n",
    "print(m)\n",
    "\n",
    "# Print maximum value of Price\n",
    "print(\"\\nMaximum value of Price:\\n\")\n",
    "mx = df['Price'].max()\n",
    "print(m)\n",
    "\n",
    "# Print standard deviation of Price\n",
    "print(\"\\nStandard deviation of Price:\\n\")\n",
    "sd = df['Price'].std()\n",
    "print(sd)\n"
   ]
  },
  {
   "cell_type": "code",
   "execution_count": null,
   "id": "6aa5dc7e",
   "metadata": {},
   "outputs": [],
   "source": []
  }
 ],
 "metadata": {
  "kernelspec": {
   "display_name": "Python 3",
   "language": "python",
   "name": "python3"
  },
  "language_info": {
   "codemirror_mode": {
    "name": "ipython",
    "version": 3
   },
   "file_extension": ".py",
   "mimetype": "text/x-python",
   "name": "python",
   "nbconvert_exporter": "python",
   "pygments_lexer": "ipython3",
   "version": "3.8.8"
  }
 },
 "nbformat": 4,
 "nbformat_minor": 5
}
