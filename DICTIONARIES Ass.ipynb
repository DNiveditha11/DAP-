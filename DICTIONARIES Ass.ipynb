{
 "cells": [
  {
   "cell_type": "code",
   "execution_count": 2,
   "id": "8b7682a4",
   "metadata": {},
   "outputs": [
    {
     "name": "stdout",
     "output_type": "stream",
     "text": [
      "Niveditha\n",
      "Student\n",
      "B.Tech\n"
     ]
    }
   ],
   "source": [
    "dict={'name':'Niveditha','designation':'Student','qual':'B.Tech','univ':'CMR'}\n",
    "print(dict['name'])\n",
    "print(dict['designation'])\n",
    "\n",
    "print(dict['qual'])"
   ]
  },
  {
   "cell_type": "code",
   "execution_count": 4,
   "id": "67f75282",
   "metadata": {},
   "outputs": [
    {
     "name": "stdout",
     "output_type": "stream",
     "text": [
      "D C\n",
      "CSE 7th SEM\n"
     ]
    }
   ],
   "source": [
    "dict={'name':'Niveditha','designation':'Student','qual':'B.Tech','univ':'CMR'}\n",
    "dict['name']='D C'\n",
    "print(dict['name'])\n",
    "dict['class']='CSE 7th SEM'\n",
    "print(dict['class'])"
   ]
  },
  {
   "cell_type": "code",
   "execution_count": 5,
   "id": "51ef9075",
   "metadata": {},
   "outputs": [],
   "source": [
    "dict={'name':'Niveditha','designation':'Student','qual':'B.Tech','univ':'CMR'}\n",
    "del dict['qual']\n",
    "#print(dict['qual'])\n",
    "dict.clear()\n",
    "#print(dict['name'])\n",
    "del dict"
   ]
  },
  {
   "cell_type": "code",
   "execution_count": 6,
   "id": "74f30d02",
   "metadata": {},
   "outputs": [
    {
     "name": "stdout",
     "output_type": "stream",
     "text": [
      "Vishnu\n",
      "5\n"
     ]
    }
   ],
   "source": [
    "dict={'name':'Niveditha','designation':'Student','qual':'B,.Tech','univ':'CMR', 'name':'Vishnu','branch':'Mech'}\n",
    "print(dict['name'])\n",
    "print(len(dict))"
   ]
  },
  {
   "cell_type": "code",
   "execution_count": 8,
   "id": "b4993c13",
   "metadata": {},
   "outputs": [
    {
     "name": "stdout",
     "output_type": "stream",
     "text": [
      "dict_values(['Vishnu', 'Student', 'B.Tech', 'CMR', 'Mech'])\n",
      "dict_items([('name', 'Vishnu'), ('designation', 'Student'), ('qual', 'B.Tech'), ('univ', 'CMR'), ('branch', 'Mech')])\n",
      "dict_keys(['name', 'designation', 'qual', 'univ', 'branch'])\n"
     ]
    }
   ],
   "source": [
    "dict={'name':'Niveditha','designation':'Student','qual':'B.Tech','univ':'CMR', 'name':'Vishnu','branch':'Mech'}\n",
    "\n",
    "print(dict.values())\n",
    "\n",
    "print(dict.items())\n",
    "\n",
    "print(dict.keys())"
   ]
  },
  {
   "cell_type": "code",
   "execution_count": 13,
   "id": "7de74159",
   "metadata": {},
   "outputs": [
    {
     "name": "stdout",
     "output_type": "stream",
     "text": [
      "Vishnu\n",
      "nothing\n"
     ]
    }
   ],
   "source": [
    "dict={'name':'Niveditha','designation':'Student','qual':'B.Tech','univ':'CMR', 'name':'Vishnu'}\n",
    "\n",
    "\n",
    "print(dict['name'])\n",
    "\n",
    "print(dict.get('edu',\"nothing\"))\n"
   ]
  },
  {
   "cell_type": "code",
   "execution_count": 14,
   "id": "ba24f849",
   "metadata": {},
   "outputs": [
    {
     "name": "stdout",
     "output_type": "stream",
     "text": [
      "Vishnu\n",
      "4\n"
     ]
    }
   ],
   "source": [
    "dict={'name':'Niveditha','designation':'Student','qual':'B.Tech','univ':'CMR', 'name':'Vishnu'}\n",
    "\n",
    "dict2=dict.copy()\n",
    "print(dict2['name'])\n",
    "print(len(dict2))"
   ]
  },
  {
   "cell_type": "code",
   "execution_count": 15,
   "id": "3c5f2e1e",
   "metadata": {},
   "outputs": [
    {
     "name": "stdout",
     "output_type": "stream",
     "text": [
      "{'name': 'Vishnu', 'designation': 'Student', 'qual': 'B.Tech', 'univ': 'CMR'}\n",
      "{'edu': 'B.Tech-M.Tech', 'students': '7 Sem'}\n",
      "{'name': 'Vishnu', 'designation': 'Student', 'qual': 'B.Tech', 'univ': 'CMR', 'edu': 'B.Tech-M.Tech', 'students': '7 Sem'}\n"
     ]
    }
   ],
   "source": [
    "dict={'name':'Niveditha','designation':'Student','qual':'B.Tech','univ':'CMR', 'name':'Vishnu'}\n",
    "    \n",
    "dict2={'edu':'B.Tech-M.Tech','students':'7 Sem'}\n",
    "\n",
    "print(dict)\n",
    "print(dict2)\n",
    "\n",
    "dict.update(dict2)\n",
    "\n",
    "print(dict)"
   ]
  },
  {
   "cell_type": "code",
   "execution_count": null,
   "id": "3ed9c2e3",
   "metadata": {},
   "outputs": [],
   "source": []
  }
 ],
 "metadata": {
  "kernelspec": {
   "display_name": "Python 3",
   "language": "python",
   "name": "python3"
  },
  "language_info": {
   "codemirror_mode": {
    "name": "ipython",
    "version": 3
   },
   "file_extension": ".py",
   "mimetype": "text/x-python",
   "name": "python",
   "nbconvert_exporter": "python",
   "pygments_lexer": "ipython3",
   "version": "3.8.8"
  }
 },
 "nbformat": 4,
 "nbformat_minor": 5
}
