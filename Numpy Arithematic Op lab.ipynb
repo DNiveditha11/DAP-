{
 "cells": [
  {
   "cell_type": "code",
   "execution_count": 1,
   "id": "f8ccaf19",
   "metadata": {},
   "outputs": [
    {
     "name": "stdout",
     "output_type": "stream",
     "text": [
      "Print A=  5\n",
      "Print B=  [40 50 60]\n",
      "After Addition = [45 55 65]\n",
      "After Subtraction = [35 45 55]\n",
      "After Multiplcation = [200 250 300]\n",
      "After Division = [ 8. 10. 12.]\n",
      "After Division = [ 8. 10. 12.]\n"
     ]
    }
   ],
   "source": [
    "import numpy as np\n",
    "\n",
    "a=np.array(5)\n",
    "\n",
    "print(\"Print A= \",a)\n",
    "\n",
    "b=np.array([40,50,60])\n",
    "\n",
    "print(\"Print B= \", b)\n",
    "\n",
    "addition= np.add(a,b)\n",
    "\n",
    "print(\"After Addition =\", addition)\n",
    "\n",
    "sub=np.subtract(b,a)\n",
    "\n",
    "print(\"After Subtraction =\",sub)\n",
    "\n",
    "mul=np.multiply (a,b)\n",
    "\n",
    "print(\"After Multiplcation =\",mul)\n",
    "\n",
    "div=np.divide (b,a)\n",
    "\n",
    "print(\"After Division =\",div)\n",
    "\n",
    "div1=np.divide (b,5)\n",
    "\n",
    "print(\"After Division =\",div1)"
   ]
  },
  {
   "cell_type": "code",
   "execution_count": 2,
   "id": "a61845d8",
   "metadata": {},
   "outputs": [
    {
     "name": "stdout",
     "output_type": "stream",
     "text": [
      "[  0.55   8.33   8.   188.  ]\n",
      "[1.81818182 0.12004802 0.125      0.00531915]\n"
     ]
    }
   ],
   "source": [
    "#reciprocal\n",
    "\n",
    "a= np.array([0.55,8.33,8,188])\n",
    "\n",
    "print(a)\n",
    "\n",
    "rec=np.reciprocal(a) \n",
    "print(rec)"
   ]
  },
  {
   "cell_type": "code",
   "execution_count": 3,
   "id": "b2dca865",
   "metadata": {},
   "outputs": [
    {
     "name": "stdout",
     "output_type": "stream",
     "text": [
      "[1000   10  100]\n",
      "after ^2 =  [1000000     100   10000]\n",
      "after b array elements as ^ =  [1000000      10 1000000]\n"
     ]
    }
   ],
   "source": [
    "a=np.array([1000,10,100])\n",
    "\n",
    "print(a)\n",
    "\n",
    "pow=np.power(a,2)\n",
    "print(\"after ^2 = \", pow)\n",
    "\n",
    "\n",
    "b=np.array([2,1,3])\n",
    "\n",
    "pow1=np.power(a,b)\n",
    "print(\"after b array elements as ^ = \", pow1)\n"
   ]
  },
  {
   "cell_type": "code",
   "execution_count": 4,
   "id": "de9443d6",
   "metadata": {},
   "outputs": [
    {
     "name": "stdout",
     "output_type": "stream",
     "text": [
      "values of A= [40 70 30]\n",
      "values of B= [4 6 5]\n",
      "values of MOD= [0 4 0]\n",
      "values of REMAINDER= [0 4 0]\n"
     ]
    }
   ],
   "source": [
    "a= np.array ([40,70,30])\n",
    "b= np.array ([4,6,5])\n",
    "\n",
    "print(\"values of A=\", a)\n",
    "print(\"values of B=\", b)\n",
    "\n",
    "mm=np.mod(a,b)\n",
    "\n",
    "rm=np.remainder(a,b)\n",
    "\n",
    "print(\"values of MOD=\", mm)\n",
    "print(\"values of REMAINDER=\", rm)"
   ]
  },
  {
   "cell_type": "code",
   "execution_count": 5,
   "id": "f0aa120d",
   "metadata": {},
   "outputs": [
    {
     "name": "stdout",
     "output_type": "stream",
     "text": [
      "[ 0.+0.6j  0.+3.6j 11.+0.j  -0.-2.7j]\n",
      "real= [ 0.  0. 11. -0.]\n",
      "imaginary= [ 0.6  3.6  0.  -2.7]\n",
      "Conjugate= [ 0.-0.6j  0.-3.6j 11.-0.j  -0.+2.7j]\n"
     ]
    }
   ],
   "source": [
    "a=np.array([0.6j, 3.6j,11, -2.7j])\n",
    "print(a)\n",
    "\n",
    "print(\"real=\",np.real(a))\n",
    "\n",
    "print(\"imaginary=\",np.imag(a))\n",
    "\n",
    "print(\"Conjugate=\", np.conj(a))"
   ]
  },
  {
   "cell_type": "code",
   "execution_count": 6,
   "id": "c18bc95b",
   "metadata": {},
   "outputs": [
    {
     "name": "stdout",
     "output_type": "stream",
     "text": [
      "[  2.     3.9  433.     0.87  28.    30.8 ]\n",
      "after rounding up= [  2.   4. 433.   1.  28.  31.]\n",
      "after rounding up to 1st decimal value = [  2.    3.9 433.    0.9  28.   30.8]\n"
     ]
    }
   ],
   "source": [
    "a=np.array ([2.0,3.9,433,0.87,28,30.8])\n",
    "\n",
    "print(a)\n",
    "\n",
    "print(\"after rounding up=\", np.around(a))\n",
    "\n",
    "print(\"after rounding up to 1st decimal value =\", np.around(a,decimals=1))"
   ]
  },
  {
   "cell_type": "code",
   "execution_count": 7,
   "id": "4a833efe",
   "metadata": {},
   "outputs": [
    {
     "name": "stdout",
     "output_type": "stream",
     "text": [
      "[ -2.8    1.6  521.    26.6   -5.53  63.  ]\n",
      "\n",
      "\n",
      "[ -3.   1. 521.  26.  -6.  63.]\n",
      "[ -2.   2. 521.  27.  -5.  63.]\n"
     ]
    }
   ],
   "source": [
    "a=np.array ([-2.8,1.6,521,26.6,-5.53,63])\n",
    "\n",
    "print(a)\n",
    "\n",
    "print('\\n')\n",
    "\n",
    "print(np.floor(a))\n",
    "\n",
    "print(np.ceil(a))"
   ]
  },
  {
   "cell_type": "code",
   "execution_count": null,
   "id": "1ab877b9",
   "metadata": {},
   "outputs": [],
   "source": []
  }
 ],
 "metadata": {
  "kernelspec": {
   "display_name": "Python 3",
   "language": "python",
   "name": "python3"
  },
  "language_info": {
   "codemirror_mode": {
    "name": "ipython",
    "version": 3
   },
   "file_extension": ".py",
   "mimetype": "text/x-python",
   "name": "python",
   "nbconvert_exporter": "python",
   "pygments_lexer": "ipython3",
   "version": "3.8.8"
  }
 },
 "nbformat": 4,
 "nbformat_minor": 5
}
