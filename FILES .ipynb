{
 "cells": [
  {
   "cell_type": "code",
   "execution_count": 1,
   "id": "7376eeb4",
   "metadata": {},
   "outputs": [
    {
     "name": "stdout",
     "output_type": "stream",
     "text": [
      "Python is really a good language, isn't it?\n"
     ]
    }
   ],
   "source": [
    "print (\"Python is really a good language,\", \"isn't it?\")"
   ]
  },
  {
   "cell_type": "code",
   "execution_count": 2,
   "id": "a2a527cb",
   "metadata": {},
   "outputs": [
    {
     "name": "stdout",
     "output_type": "stream",
     "text": [
      "Enter your input : Niveditha\n",
      "Received input is :  Niveditha\n"
     ]
    }
   ],
   "source": [
    "str = input(\"Enter your input : \")\n",
    "print (\"Received input is : \", str)"
   ]
  },
  {
   "cell_type": "code",
   "execution_count": 3,
   "id": "04d3854a",
   "metadata": {},
   "outputs": [
    {
     "name": "stdout",
     "output_type": "stream",
     "text": [
      "Name of the file:  CSE 7th Sem.txt\n"
     ]
    }
   ],
   "source": [
    "# Open a file\n",
    "fo = open(\"CSE 7th Sem.txt\", \"wb\")\n",
    "print (\"Name of the file: \", fo.name)\n",
    "\n",
    "# Close opend file\n",
    "fo.close()"
   ]
  },
  {
   "cell_type": "code",
   "execution_count": 5,
   "id": "79a070ef",
   "metadata": {},
   "outputs": [
    {
     "name": "stdout",
     "output_type": "stream",
     "text": [
      "sharmaNIVEDITHANIVEDITHA \n"
     ]
    }
   ],
   "source": [
    "f = open(\"CSE 7th SEM1.txt\", \"a\")\n",
    "f.write(\" \")\n",
    "f.close()\n",
    "\n",
    "#open and read the file after the appending:\n",
    "f = open(\"CSE 7th SEM1.txt\", \"r\")\n",
    "print(f.read()) "
   ]
  },
  {
   "cell_type": "code",
   "execution_count": 7,
   "id": "d0aef42d",
   "metadata": {},
   "outputs": [
    {
     "name": "stdout",
     "output_type": "stream",
     "text": [
      "Name of the file:  CSE 7th SEM.txt\n",
      "Closed or not :  False\n",
      "Opening mode :  wb\n"
     ]
    }
   ],
   "source": [
    "fo = open(\"CSE 7th SEM.txt\", \"wb\")\n",
    "print (\"Name of the file: \", fo.name)\n",
    "print (\"Closed or not : \", fo.closed)\n",
    "print (\"Opening mode : \", fo.mode)\n"
   ]
  },
  {
   "cell_type": "code",
   "execution_count": 1,
   "id": "d78d2e5f",
   "metadata": {},
   "outputs": [
    {
     "name": "stdout",
     "output_type": "stream",
     "text": [
      "Read String is :  sharmaNIVE\n",
      "Current file position :  10\n",
      "Again read String is :  sharmaNIVEDITHA\n",
      "my new string=  NIVE\n"
     ]
    }
   ],
   "source": [
    "# Open a file\n",
    "fo = open(\"CSE 7th SEM1.txt\", \"r+\")\n",
    "\n",
    "str = fo.read(10)\n",
    "print (\"Read String is : \", str) #shabnam---output\n",
    "\n",
    "# Check current position\n",
    "position = fo.tell()\n",
    "print (\"Current file position : \", position)\n",
    "\n",
    "# Reposition pointer at the beginning once again\n",
    "position = fo.seek(0, 0);\n",
    "str = fo.read(15)\n",
    "print (\"Again read String is : \", str)\n",
    "\n",
    "ptr=fo.seek(0,1)\n",
    "str1=fo.read(4)\n",
    "print(\"my new string= \", str1)\n",
    "\n",
    "# Close opened file\n",
    "fo.close()"
   ]
  },
  {
   "cell_type": "code",
   "execution_count": 2,
   "id": "f9334227",
   "metadata": {},
   "outputs": [
    {
     "ename": "FileNotFoundError",
     "evalue": "[WinError 2] The system cannot find the file specified: 'demofile2.txt' -> 'test2.txt'",
     "output_type": "error",
     "traceback": [
      "\u001b[1;31m---------------------------------------------------------------------------\u001b[0m",
      "\u001b[1;31mFileNotFoundError\u001b[0m                         Traceback (most recent call last)",
      "\u001b[1;32m<ipython-input-2-72dbd1b7e390>\u001b[0m in \u001b[0;36m<module>\u001b[1;34m\u001b[0m\n\u001b[0;32m      2\u001b[0m \u001b[1;33m\u001b[0m\u001b[0m\n\u001b[0;32m      3\u001b[0m \u001b[1;31m# Rename a file from test1.txt to test2.txt\u001b[0m\u001b[1;33m\u001b[0m\u001b[1;33m\u001b[0m\u001b[1;33m\u001b[0m\u001b[0m\n\u001b[1;32m----> 4\u001b[1;33m \u001b[0mos\u001b[0m\u001b[1;33m.\u001b[0m\u001b[0mrename\u001b[0m\u001b[1;33m(\u001b[0m\u001b[1;34m\"demofile2.txt\"\u001b[0m\u001b[1;33m,\u001b[0m \u001b[1;34m\"test2.txt\"\u001b[0m \u001b[1;33m)\u001b[0m\u001b[1;33m\u001b[0m\u001b[1;33m\u001b[0m\u001b[0m\n\u001b[0m",
      "\u001b[1;31mFileNotFoundError\u001b[0m: [WinError 2] The system cannot find the file specified: 'demofile2.txt' -> 'test2.txt'"
     ]
    }
   ],
   "source": [
    "import os\n",
    "\n",
    "# Rename a file from test1.txt to test2.txt\n",
    "os.rename(\"demofile2.txt\", \"test2.txt\" )"
   ]
  },
  {
   "cell_type": "code",
   "execution_count": 14,
   "id": "4c7fab66",
   "metadata": {},
   "outputs": [
    {
     "ename": "FileNotFoundError",
     "evalue": "[WinError 2] The system cannot find the file specified: 'text2.txt'",
     "output_type": "error",
     "traceback": [
      "\u001b[1;31m---------------------------------------------------------------------------\u001b[0m",
      "\u001b[1;31mFileNotFoundError\u001b[0m                         Traceback (most recent call last)",
      "\u001b[1;32m<ipython-input-14-165d86c30141>\u001b[0m in \u001b[0;36m<module>\u001b[1;34m\u001b[0m\n\u001b[0;32m      2\u001b[0m \u001b[1;33m\u001b[0m\u001b[0m\n\u001b[0;32m      3\u001b[0m \u001b[1;31m# Delete file test2.txt\u001b[0m\u001b[1;33m\u001b[0m\u001b[1;33m\u001b[0m\u001b[1;33m\u001b[0m\u001b[0m\n\u001b[1;32m----> 4\u001b[1;33m \u001b[0mos\u001b[0m\u001b[1;33m.\u001b[0m\u001b[0mremove\u001b[0m\u001b[1;33m(\u001b[0m\u001b[1;34m\"text2.txt\"\u001b[0m\u001b[1;33m)\u001b[0m\u001b[1;33m\u001b[0m\u001b[1;33m\u001b[0m\u001b[0m\n\u001b[0m",
      "\u001b[1;31mFileNotFoundError\u001b[0m: [WinError 2] The system cannot find the file specified: 'text2.txt'"
     ]
    }
   ],
   "source": [
    "import os\n",
    "\n",
    "# Delete file test2.txt\n",
    "os.remove(\"text2.txt\")\n"
   ]
  },
  {
   "cell_type": "code",
   "execution_count": 15,
   "id": "820b496c",
   "metadata": {},
   "outputs": [],
   "source": [
    "import os\n",
    "\n",
    "# Create a directory \"test\"\n",
    "os.mkdir(\"test\")\n"
   ]
  },
  {
   "cell_type": "code",
   "execution_count": 16,
   "id": "36f038c2",
   "metadata": {},
   "outputs": [
    {
     "ename": "OSError",
     "evalue": "[WinError 123] The filename, directory name, or volume label syntax is incorrect: 'D:\\nive'",
     "output_type": "error",
     "traceback": [
      "\u001b[1;31m---------------------------------------------------------------------------\u001b[0m",
      "\u001b[1;31mOSError\u001b[0m                                   Traceback (most recent call last)",
      "\u001b[1;32m<ipython-input-16-f8fa6a48ebc3>\u001b[0m in \u001b[0;36m<module>\u001b[1;34m\u001b[0m\n\u001b[0;32m      2\u001b[0m \u001b[1;33m\u001b[0m\u001b[0m\n\u001b[0;32m      3\u001b[0m \u001b[1;31m# Changing a directory to \"/home/newdir\"\u001b[0m\u001b[1;33m\u001b[0m\u001b[1;33m\u001b[0m\u001b[1;33m\u001b[0m\u001b[0m\n\u001b[1;32m----> 4\u001b[1;33m \u001b[0mos\u001b[0m\u001b[1;33m.\u001b[0m\u001b[0mchdir\u001b[0m\u001b[1;33m(\u001b[0m\u001b[1;34m\"D:\\nive\"\u001b[0m\u001b[1;33m)\u001b[0m\u001b[1;33m\u001b[0m\u001b[1;33m\u001b[0m\u001b[0m\n\u001b[0m",
      "\u001b[1;31mOSError\u001b[0m: [WinError 123] The filename, directory name, or volume label syntax is incorrect: 'D:\\nive'"
     ]
    }
   ],
   "source": [
    "import os\n",
    "\n",
    "# Changing a directory to \"/home/newdir\"\n",
    "os.chdir(\"D:\\nive\")"
   ]
  },
  {
   "cell_type": "code",
   "execution_count": 17,
   "id": "d608ebfb",
   "metadata": {},
   "outputs": [
    {
     "ename": "FileNotFoundError",
     "evalue": "[WinError 3] The system cannot find the path specified: '/tmp/test'",
     "output_type": "error",
     "traceback": [
      "\u001b[1;31m---------------------------------------------------------------------------\u001b[0m",
      "\u001b[1;31mFileNotFoundError\u001b[0m                         Traceback (most recent call last)",
      "\u001b[1;32m<ipython-input-17-2270b0c65b93>\u001b[0m in \u001b[0;36m<module>\u001b[1;34m\u001b[0m\n\u001b[0;32m      6\u001b[0m \u001b[1;33m\u001b[0m\u001b[0m\n\u001b[0;32m      7\u001b[0m \u001b[1;31m# This would  remove \"/tmp/test\"  directory.\u001b[0m\u001b[1;33m\u001b[0m\u001b[1;33m\u001b[0m\u001b[1;33m\u001b[0m\u001b[0m\n\u001b[1;32m----> 8\u001b[1;33m \u001b[0mos\u001b[0m\u001b[1;33m.\u001b[0m\u001b[0mrmdir\u001b[0m\u001b[1;33m(\u001b[0m \u001b[1;34m\"/tmp/test\"\u001b[0m  \u001b[1;33m)\u001b[0m\u001b[1;33m\u001b[0m\u001b[1;33m\u001b[0m\u001b[0m\n\u001b[0m",
      "\u001b[1;31mFileNotFoundError\u001b[0m: [WinError 3] The system cannot find the path specified: '/tmp/test'"
     ]
    }
   ],
   "source": [
    "import os\n",
    "\n",
    "# This would give location of the current directory\n",
    "os.getcwd()\n",
    "\n",
    "\n",
    "# This would  remove \"/tmp/test\"  directory.\n",
    "os.rmdir( \"/tmp/test\"  )"
   ]
  },
  {
   "cell_type": "code",
   "execution_count": null,
   "id": "43e19033",
   "metadata": {},
   "outputs": [],
   "source": []
  }
 ],
 "metadata": {
  "kernelspec": {
   "display_name": "Python 3",
   "language": "python",
   "name": "python3"
  },
  "language_info": {
   "codemirror_mode": {
    "name": "ipython",
    "version": 3
   },
   "file_extension": ".py",
   "mimetype": "text/x-python",
   "name": "python",
   "nbconvert_exporter": "python",
   "pygments_lexer": "ipython3",
   "version": "3.8.8"
  }
 },
 "nbformat": 4,
 "nbformat_minor": 5
}
